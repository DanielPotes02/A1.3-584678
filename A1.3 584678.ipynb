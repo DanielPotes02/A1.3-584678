{
 "cells": [
  {
   "cell_type": "markdown",
   "metadata": {},
   "source": [
    "## A1.3 Regresión lineal múltiple"
   ]
  },
  {
   "cell_type": "markdown",
   "metadata": {},
   "source": [
    "**1. Importa los datos del archivo “NASA.csv” a tu ambiente de trabajo. Este archivo lo encontrarás en la misma página donde descargaste esta plantilla. Revisa las dimensiones del data frame e imprime en consola tanto dichas dimensiones como las primeras 15 filas de datos.**"
   ]
  },
  {
   "cell_type": "code",
   "execution_count": 1,
   "metadata": {},
   "outputs": [
    {
     "name": "stdout",
     "output_type": "stream",
     "text": [
      "Dimensiones del dataframe:  (1503, 6)\n",
      "\n",
      "Primeras 15 filas:\n",
      "     frecuencia  angulo  longitud  velocidad   espesor  presion\n",
      "0          800     0.0    0.3048       71.3  0.002663  126.201\n",
      "1         1000     0.0    0.3048       71.3  0.002663  125.201\n",
      "2         1250     0.0    0.3048       71.3  0.002663  125.951\n",
      "3         1600     0.0    0.3048       71.3  0.002663  127.591\n",
      "4         2000     0.0    0.3048       71.3  0.002663  127.461\n",
      "5         2500     0.0    0.3048       71.3  0.002663  125.571\n",
      "6         3150     0.0    0.3048       71.3  0.002663  125.201\n",
      "7         4000     0.0    0.3048       71.3  0.002663  123.061\n",
      "8         5000     0.0    0.3048       71.3  0.002663  121.301\n",
      "9         6300     0.0    0.3048       71.3  0.002663  119.541\n",
      "10        8000     0.0    0.3048       71.3  0.002663  117.151\n",
      "11       10000     0.0    0.3048       71.3  0.002663  115.391\n",
      "12       12500     0.0    0.3048       71.3  0.002663  112.241\n",
      "13       16000     0.0    0.3048       71.3  0.002663  108.721\n",
      "14         500     0.0    0.3048       55.5  0.002831  126.416\n"
     ]
    }
   ],
   "source": [
    "import pandas as pd\n",
    "import numpy as np\n",
    "import matplotlib.pyplot as plt\n",
    "\n",
    "# Importar los datos del archivo A1.3 NASA.csv\n",
    "data = pd.read_csv('A1.3 NASA.csv')\n",
    "\n",
    "# Imprimir las dimensiones del dataframe\n",
    "print(\"Dimensiones del dataframe: \", data.shape)\n",
    "\n",
    "# Imprimir las primeras 15 filas del dataframe\n",
    "print(\"\\nPrimeras 15 filas:\\n\",data.head(15))"
   ]
  },
  {
   "cell_type": "markdown",
   "metadata": {},
   "source": [
    "**2. Separa el data frame en datos de entrenamiento y datos de prueba con una proporción 70/30. Es decir, el 70% de los datos se usarán para entrenar el modelo y el resto para validar sus resultados. Asegúrate que la partición sea aleatoria, no es una buena práctica simplemente tomar las primeras observaciones para entrenar y las últimas para probar. Imprime en pantalla las dimensiones de ambos conjuntos de datos. Revisa y asegúrate que la cantidad de observaciones de ambos conjuntos de datos sumen a la cantidad de datos original.**"
   ]
  },
  {
   "cell_type": "code",
   "execution_count": 2,
   "metadata": {},
   "outputs": [
    {
     "name": "stdout",
     "output_type": "stream",
     "text": [
      "\n",
      "Número de datos en cada conjunto:\n",
      "Entrenamiento:  1052\n",
      "Prueba:  451\n",
      "Total:  1503\n"
     ]
    }
   ],
   "source": [
    "# Separar los datos en dos conjuntos: uno para entrenamiento y otro para prueba (70% y 30%)\n",
    "from sklearn.model_selection import train_test_split\n",
    "train_set, test_set = train_test_split(data, test_size=0.3, random_state=42)\n",
    "\n",
    "# Sumar el número de datos en cada conjunto\n",
    "print(\"\\nNúmero de datos en cada conjunto:\")\n",
    "print(\"Entrenamiento: \", len(train_set))\n",
    "print(\"Prueba: \", len(test_set))\n",
    "print(\"Total: \", len(train_set) + len(test_set))"
   ]
  },
  {
   "cell_type": "markdown",
   "metadata": {},
   "source": [
    "**3. Entrena un modelo de regresión lineal múltiple, para que las primeras 5 variables del sistema intenten predecir a la sexta, “presion”. Es decir, nos interesa tratar de predecir el aerodinamismo, medido como la presión sonora detectada. Imprime en pantalla un resumen del modelo, donde se muestre claramente el coeficiente estimado de cada variable, así como su p-value asociado, entre otras cosas.**"
   ]
  },
  {
   "cell_type": "code",
   "execution_count": 3,
   "metadata": {},
   "outputs": [
    {
     "name": "stdout",
     "output_type": "stream",
     "text": [
      "                            OLS Regression Results                            \n",
      "==============================================================================\n",
      "Dep. Variable:                presion   R-squared:                       0.521\n",
      "Model:                            OLS   Adj. R-squared:                  0.519\n",
      "Method:                 Least Squares   F-statistic:                     227.9\n",
      "Date:                Wed, 29 Jan 2025   Prob (F-statistic):          1.38e-164\n",
      "Time:                        23:11:35   Log-Likelihood:                -3138.0\n",
      "No. Observations:                1052   AIC:                             6288.\n",
      "Df Residuals:                    1046   BIC:                             6318.\n",
      "Df Model:                           5                                         \n",
      "Covariance Type:            nonrobust                                         \n",
      "==============================================================================\n",
      "                 coef    std err          t      P>|t|      [0.025      0.975]\n",
      "------------------------------------------------------------------------------\n",
      "const        132.4778      0.651    203.367      0.000     131.200     133.756\n",
      "frecuencia    -0.0013   4.81e-05    -26.457      0.000      -0.001      -0.001\n",
      "angulo        -0.3653      0.047     -7.754      0.000      -0.458      -0.273\n",
      "longitud     -34.6170      1.928    -17.953      0.000     -38.401     -30.833\n",
      "velocidad      0.1000      0.010     10.365      0.000       0.081       0.119\n",
      "espesor     -157.2017     18.274     -8.602      0.000    -193.060    -121.344\n",
      "==============================================================================\n",
      "Omnibus:                        9.824   Durbin-Watson:                   2.122\n",
      "Prob(Omnibus):                  0.007   Jarque-Bera (JB):               14.313\n",
      "Skew:                          -0.029   Prob(JB):                     0.000780\n",
      "Kurtosis:                       3.569   Cond. No.                     5.47e+05\n",
      "==============================================================================\n",
      "\n",
      "Notes:\n",
      "[1] Standard Errors assume that the covariance matrix of the errors is correctly specified.\n",
      "[2] The condition number is large, 5.47e+05. This might indicate that there are\n",
      "strong multicollinearity or other numerical problems.\n"
     ]
    }
   ],
   "source": [
    "# Separacion de la variable dependiente “presion” \n",
    "x_train = train_set[['frecuencia','angulo','longitud','velocidad','espesor']]\n",
    "y_train = train_set['presion']\n",
    "\n",
    "x_test = test_set[['frecuencia','angulo','longitud','velocidad','espesor']]\n",
    "y_test = test_set['presion']\n",
    "\n",
    "# Construir modelo\n",
    "import statsmodels.api as sm\n",
    "model = sm.OLS(y_train,sm.add_constant(x_train)).fit()\n",
    "x_test = sm.add_constant(x_test)\n",
    "\n",
    "# Imprimir resumen del modelo\n",
    "print(model.summary())"
   ]
  },
  {
   "cell_type": "markdown",
   "metadata": {},
   "source": [
    "**Es probable que los p-values se vean como 0.000, en ese caso, imprimir manualmente los valores exactos de dichas métricas (recuerda el atributo `pvalues`).**"
   ]
  },
  {
   "cell_type": "code",
   "execution_count": 4,
   "metadata": {},
   "outputs": [
    {
     "name": "stdout",
     "output_type": "stream",
     "text": [
      "Valores p de las variables independientes:\n",
      "const          0.000000e+00\n",
      "frecuencia    1.667773e-118\n",
      "angulo         2.097471e-14\n",
      "longitud       4.981210e-63\n",
      "velocidad      4.963051e-24\n",
      "espesor        2.818412e-17\n",
      "dtype: float64\n"
     ]
    }
   ],
   "source": [
    "# Imprimir los p-values de las variables independientes\n",
    "print(\"Valores p de las variables independientes:\")\n",
    "print(model.pvalues)"
   ]
  },
  {
   "cell_type": "markdown",
   "metadata": {},
   "source": [
    "**4. A partir de los resultados mostrados en la tabla, indica si consideras que existe al menos una variable significativa en el modelo. Adicionalmente, indica específicamente cuál o cuáles variables específicas tienen una asociación lineal significativa con la salida y cuál considerarías que es la variable más importante del modelo. Imprime en consola cada una de estas aseveraciones como texto, pero indica claramente en qué métrica te estás basando para llegar a cada conclusión.**"
   ]
  },
  {
   "cell_type": "code",
   "execution_count": 5,
   "metadata": {},
   "outputs": [
    {
     "name": "stdout",
     "output_type": "stream",
     "text": [
      "Todas las variables son significativas en el modelo, ya que sus valores p son menores a 0.05. La variable más importante del modelo es la 'frecuencia', ya que tiene el valor p más bajo de todas las variables independientes.\n"
     ]
    }
   ],
   "source": [
    "print(\"Todas las variables son significativas en el modelo, ya que sus valores p son menores a 0.05. La variable más importante del modelo es la 'frecuencia', ya que tiene el valor p más bajo de todas las variables independientes.\")"
   ]
  },
  {
   "cell_type": "markdown",
   "metadata": {},
   "source": [
    "**5. Calcula el residual standard error y la 𝑅^2 del modelo, tanto para los datos de entrenamiento como para los datos de validación e imprime dichos valores en la consola. Para el cálculo de las métricas en el conjunto de entrenamiento, te recomiendo usar los atributos ‘scale’ (y sacar la raíz cuadrada) y ‘rsquared’.**"
   ]
  },
  {
   "cell_type": "code",
   "execution_count": 6,
   "metadata": {},
   "outputs": [
    {
     "name": "stdout",
     "output_type": "stream",
     "text": [
      "Métricas en conjunto de entrenamiento:\n",
      "RSE (Training): 4.791436345798008\n",
      "R^2 (Training): 0.5214416938715567\n",
      "\n",
      "Métricas en conjunto de validación:\n",
      "RSE (Validation): 4.877845029866453\n",
      "R^2 (Validation): 0.49860118972714673\n"
     ]
    }
   ],
   "source": [
    "# Obtener el standard error y la r cuadrada del modelo\n",
    "\n",
    "# Calcular RSE y R^2 en el conjunto de entrenamiento\n",
    "rse_train = np.sqrt(model.scale)  \n",
    "r2_train = model.rsquared  \n",
    "\n",
    "# Evaluar en el conjunto de validación\n",
    "y_pred_test = model.predict(x_test)\n",
    "\n",
    "rss_test = np.sum((y_test - y_pred_test) ** 2)  # RSS en validación\n",
    "tss_test = np.sum((y_test - np.mean(y_train)) ** 2)  # TSS en validación\n",
    "rse_test = np.sqrt(rss_test / (len(y_test) - 2))  # RSE en validación\n",
    "r2_test = 1 - (rss_test / tss_test)  # R^2 en validación\n",
    "\n",
    "# Imprimir los resultados\n",
    "print(\"Métricas en conjunto de entrenamiento:\")\n",
    "print(\"RSE (Training):\", rse_train)\n",
    "print(\"R^2 (Training):\", r2_train)\n",
    "\n",
    "print(\"\\nMétricas en conjunto de validación:\")\n",
    "print(\"RSE (Validation):\", rse_test)\n",
    "print(\"R^2 (Validation):\", r2_test)\n"
   ]
  },
  {
   "cell_type": "markdown",
   "metadata": {},
   "source": [
    "**6. Finalmente, tratemos de visualizar los resultados obtenidos. Genera una gráfica de dispersión que cuente con el valor real de Y (la presión sonora) para el conjunto de datos de validación en el eje x, y que cuente con el valor estimado de Y, de acuerdo al modelo, para el mismo conjunto de datos en el eje y. Idealmente, si el modelo fuera perfecto, se tendría una línea recta con una pendiente de 1 (45 grados), pues el valor real y el valor estimado serían idénticos. Esta es una manera cualitativa de evaluar la calidad de nuestro modelo, entre más se asemejen los puntos a una línea recta, mejor. Comenta sobre los resultados obtenidos.**"
   ]
  },
  {
   "cell_type": "code",
   "execution_count": 7,
   "metadata": {},
   "outputs": [
    {
     "data": {
      "image/png": "[encoded data removed]",
      "text/plain": [
       "<Figure size 640x480 with 1 Axes>"
      ]
     },
     "metadata": {},
     "output_type": "display_data"
    }
   ],
   "source": [
    "# Graficar los valores reales vs los valores predichos\n",
    "plt.scatter(y_test, y_pred_test)\n",
    "plt.xlabel(\"Presión real\")\n",
    "plt.ylabel(\"Presión predicha\")\n",
    "plt.title(\"Presión real vs Presión predicha\")\n",
    "plt.show()"
   ]
  },
  {
   "cell_type": "code",
   "execution_count": 8,
   "metadata": {},
   "outputs": [
    {
     "name": "stdout",
     "output_type": "stream",
     "text": [
      "La grafica nos muestra que los valores reales y los valores predichos están muy cerca de la recta de 45 grados, lo que indica que el modelo es bueno para predecir la presión en el conjunto de validación. Sin embargo, el modelo no es perfecto, ya que hay algunos puntos que están lejos de la recta de 45 grados. Esto puede deberse a que el modelo no es capaz de capturar todas las relaciones entre las variables independientes y la variable dependiente.\n"
     ]
    }
   ],
   "source": [
    "# Analisis de resultados\n",
    "print(\"La grafica nos muestra que los valores reales y los valores predichos están muy cerca de la recta de 45 grados, lo que indica que el modelo es bueno para predecir la presión en el conjunto de validación. Sin embargo, el modelo no es perfecto, ya que hay algunos puntos que están lejos de la recta de 45 grados. Esto puede deberse a que el modelo no es capaz de capturar todas las relaciones entre las variables independientes y la variable dependiente.\")"
   ]
  },
  {
   "cell_type": "markdown",
   "metadata": {},
   "source": [
    "**Firma de honor:**  \"Doy mi palabra que he realizado esta actividad con integridad académica\" - Daniel Matthieu Potes Lesoinne #584678"
   ]
  }
 ],
 "metadata": {
  "kernelspec": {
   "display_name": "Python 3",
   "language": "python",
   "name": "python3"
  },
  "language_info": {
   "codemirror_mode": {
    "name": "ipython",
    "version": 3
   },
   "file_extension": ".py",
   "mimetype": "text/x-python",
   "name": "python",
   "nbconvert_exporter": "python",
   "pygments_lexer": "ipython3",
   "version": "3.11.9"
  }
 },
 "nbformat": 4,
 "nbformat_minor": 2
}
